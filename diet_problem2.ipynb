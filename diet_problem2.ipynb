{
 "cells": [
  {
   "cell_type": "markdown",
   "metadata": {},
   "source": [
    "## Function to solve the subsistence problem\n",
    "\n"
   ]
  },
  {
   "cell_type": "markdown",
   "metadata": {},
   "source": [
    "Last time we worked through the problem of expressing the subsistence\n",
    "cost problem as a linear program, and then solving it.   That process\n",
    "involved several different steps, which would be easy to get wrong.\n",
    "\n",
    "Here we create a single function `solve_subsistence_problem`.  By\n",
    "isolating the logic of constructing and solving the subsistence\n",
    "problem into a stand-alone function we reduce the scope for bugs, and\n",
    "this modular approach at the same time makes testing easier.\n",
    "\n",
    "We take the different pieces of the puzzle we&rsquo;ve developed and\n",
    "put them together in the form of a linear program we can solve.\n",
    "Recall that the mathematical problem we&rsquo;re trying to solve is\n",
    "$$\n",
    "    \\min_x p'x\n",
    "$$\n",
    "such that\n",
    "$$\n",
    "    \\tilde{A}x \\geq \\tilde{b}\n",
    "$$\n",
    "If we buy a bag of groceries with quantities given by $x$, the total\n",
    "cost of the bag of groceries is the inner product of prices and\n",
    "quantities.  Since we&rsquo;ve converted our units above, this gives us a\n",
    "vector of prices where quantities are all in 100 g or ml units.\n",
    "\n",
    "The following code block defines a function\n",
    "`solve_subsistence_problem`, which takes as arguments a dataframe\n",
    "mapping different foods to nutrients; a series of prices for those\n",
    "same foods; a series giving dietary recommended intake (DRI) minimums;\n",
    "and a series giving dietary recommended maximums.\n",
    "\n"
   ]
  },
  {
   "cell_type": "code",
   "execution_count": 1,
   "metadata": {},
   "outputs": [],
   "source": [
    "from  scipy.optimize import linprog as lp\n",
    "import numpy as np\n",
    "import warnings\n",
    "\n",
    "def solve_subsistence_problem(FoodNutrients,Prices,dietmin,dietmax,max_weight=None,tol=1e-6):\n",
    "    \"\"\"Solve Stigler's Subsistence Cost Problem.\n",
    "\n",
    "    Inputs:\n",
    "       - FoodNutrients : A pd.DataFrame with rows corresponding to foods, columns to nutrients.\n",
    "       - Prices : A pd.Series of prices for different foods\n",
    "       - diet_min : A pd.Series of DRIs, with index corresponding to columns of FoodNutrients,\n",
    "                    describing minimum intakes.\n",
    "       - diet_max : A pd.Series of DRIs, with index corresponding to columns of FoodNutrients,\n",
    "                    describing maximum intakes.\n",
    "       - max_weight : Maximum weight (in hectograms) allowed for diet.\n",
    "       - tol : Solution values smaller than this in absolute value treated as zeros.\n",
    "       \n",
    "    \"\"\"\n",
    "    try: \n",
    "        p = Prices.apply(lambda x:x.magnitude)\n",
    "    except AttributeError:  # Maybe not passing in prices with units?\n",
    "        warnings.warn(\"Prices have no units.  BE CAREFUL!  We're assuming prices are per hectogram or deciliter!\")\n",
    "        p = Prices\n",
    "\n",
    "    p = p.dropna()\n",
    "\n",
    "    # Compile list that we have both prices and nutritional info for; drop if either missing\n",
    "    use = p.index.intersection(FoodNutrients.columns)\n",
    "    p = p[use]\n",
    "\n",
    "    # Drop nutritional information for foods we don't know the price of,\n",
    "    # and replace missing nutrients with zeros.\n",
    "    Aall = FoodNutrients[p.index].fillna(0)\n",
    "\n",
    "    # Drop rows of A that we don't have constraints for.\n",
    "    Amin = Aall.loc[Aall.index.intersection(dietmin.index)]\n",
    "    Amin = Amin.reindex(dietmin.index,axis=0)\n",
    "    idx = Amin.index.to_frame()\n",
    "    idx['type'] = 'min'\n",
    "    #Amin.index = pd.MultiIndex.from_frame(idx)\n",
    "    #dietmin.index = Amin.index\n",
    "    \n",
    "    Amax = Aall.loc[Aall.index.intersection(dietmax.index)]\n",
    "    Amax = Amax.reindex(dietmax.index,axis=0)\n",
    "    idx = Amax.index.to_frame()\n",
    "    idx['type'] = 'max'\n",
    "    #Amax.index = pd.MultiIndex.from_frame(idx)\n",
    "    #dietmax.index = Amax.index\n",
    "\n",
    "    # Minimum requirements involve multiplying constraint by -1 to make <=.\n",
    "    A = pd.concat([Amin,\n",
    "                   -Amax])\n",
    "\n",
    "    b = pd.concat([dietmin,\n",
    "                   -dietmax]) # Note sign change for max constraints\n",
    "\n",
    "    # Make sure order of p, A, b are consistent\n",
    "    A = A.reindex(p.index,axis=1)\n",
    "    A = A.reindex(b.index,axis=0)\n",
    "\n",
    "    if max_weight is not None:\n",
    "        # Add up weights of foods consumed\n",
    "        A.loc['Hectograms'] = -1\n",
    "        b.loc['Hectograms'] = -max_weight\n",
    "        \n",
    "    # Now solve problem!  (Note that the linear program solver we'll use assumes\n",
    "    # \"less-than-or-equal\" constraints.  We can switch back and forth by\n",
    "    # multiplying $A$ and $b$ by $-1$.)\n",
    "\n",
    "    result = lp(p, -A, -b, method='highs')\n",
    "\n",
    "    result.A = A\n",
    "    result.b = b\n",
    "    \n",
    "    if result.success:\n",
    "        result.diet = pd.Series(result.x,index=p.index)\n",
    "    else: # No feasible solution?\n",
    "        warnings.warn(result.message)\n",
    "        result.diet = pd.Series(result.x,index=p.index)*np.nan  \n",
    "\n",
    "    return result"
   ]
  },
  {
   "cell_type": "markdown",
   "metadata": {},
   "source": [
    "## Setup\n",
    "\n"
   ]
  },
  {
   "cell_type": "markdown",
   "metadata": {},
   "source": [
    "We take material from the earlier lecture on the subistence diet\n",
    "  problem, and use it to define the subsistence diet as a function of prices. \n",
    "\n",
    "We need some particular versions of the following modules;\n",
    "\n"
   ]
  },
  {
   "cell_type": "code",
   "execution_count": 7,
   "metadata": {},
   "outputs": [
    {
     "name": "stdout",
     "output_type": "stream",
     "text": [
      "Requirement already satisfied: Pint>=0.8.1 in /srv/conda/lib/python3.11/site-packages (from -r requirements.txt (line 2)) (0.24.4)\n",
      "Requirement already satisfied: numpy>=1.15.0 in /srv/conda/lib/python3.11/site-packages (from -r requirements.txt (line 6)) (2.2.3)\n",
      "Requirement already satisfied: pandas>=0.23.3 in /srv/conda/lib/python3.11/site-packages (from -r requirements.txt (line 11)) (2.2.3)\n",
      "Requirement already satisfied: requests>=2.20.0 in /srv/conda/lib/python3.11/site-packages (from -r requirements.txt (line 15)) (2.32.3)\n",
      "Requirement already satisfied: scipy>=1.1.0 in /srv/conda/lib/python3.11/site-packages (from -r requirements.txt (line 18)) (1.14.1)\n",
      "Requirement already satisfied: gspread in /srv/conda/lib/python3.11/site-packages (from -r requirements.txt (line 20)) (5.12.4)\n",
      "Requirement already satisfied: gspread_pandas in /srv/conda/lib/python3.11/site-packages (from -r requirements.txt (line 22)) (2.2.3)\n",
      "Requirement already satisfied: bottleneck>=1.3.6 in /srv/conda/lib/python3.11/site-packages (from -r requirements.txt (line 24)) (1.4.2)\n",
      "Requirement already satisfied: eep153_tools in /srv/conda/lib/python3.11/site-packages (from -r requirements.txt (line 26)) (0.12.4)\n",
      "Requirement already satisfied: fooddatacentral in /srv/conda/lib/python3.11/site-packages (from -r requirements.txt (line 28)) (1.0.10)\n",
      "Requirement already satisfied: python-gnupg in /srv/conda/lib/python3.11/site-packages (from -r requirements.txt (line 30)) (0.5.4)\n",
      "Requirement already satisfied: platformdirs>=2.1.0 in /srv/conda/lib/python3.11/site-packages (from Pint>=0.8.1->-r requirements.txt (line 2)) (4.3.6)\n",
      "Requirement already satisfied: typing-extensions>=4.0.0 in /srv/conda/lib/python3.11/site-packages (from Pint>=0.8.1->-r requirements.txt (line 2)) (4.12.2)\n",
      "Requirement already satisfied: flexcache>=0.3 in /srv/conda/lib/python3.11/site-packages (from Pint>=0.8.1->-r requirements.txt (line 2)) (0.3)\n",
      "Requirement already satisfied: flexparser>=0.4 in /srv/conda/lib/python3.11/site-packages (from Pint>=0.8.1->-r requirements.txt (line 2)) (0.4)\n",
      "Requirement already satisfied: python-dateutil>=2.8.2 in /srv/conda/lib/python3.11/site-packages (from pandas>=0.23.3->-r requirements.txt (line 11)) (2.9.0.post0)\n",
      "Requirement already satisfied: pytz>=2020.1 in /srv/conda/lib/python3.11/site-packages (from pandas>=0.23.3->-r requirements.txt (line 11)) (2024.1)\n",
      "Requirement already satisfied: tzdata>=2022.7 in /srv/conda/lib/python3.11/site-packages (from pandas>=0.23.3->-r requirements.txt (line 11)) (2025.1)\n",
      "Requirement already satisfied: charset_normalizer<4,>=2 in /srv/conda/lib/python3.11/site-packages (from requests>=2.20.0->-r requirements.txt (line 15)) (3.4.0)\n",
      "Requirement already satisfied: idna<4,>=2.5 in /srv/conda/lib/python3.11/site-packages (from requests>=2.20.0->-r requirements.txt (line 15)) (3.10)\n",
      "Requirement already satisfied: urllib3<3,>=1.21.1 in /srv/conda/lib/python3.11/site-packages (from requests>=2.20.0->-r requirements.txt (line 15)) (2.3.0)\n",
      "Requirement already satisfied: certifi>=2017.4.17 in /srv/conda/lib/python3.11/site-packages (from requests>=2.20.0->-r requirements.txt (line 15)) (2024.12.14)\n",
      "Requirement already satisfied: google-auth>=1.12.0 in /srv/conda/lib/python3.11/site-packages (from gspread->-r requirements.txt (line 20)) (2.38.0)\n",
      "Requirement already satisfied: google-auth-oauthlib>=0.4.1 in /srv/conda/lib/python3.11/site-packages (from gspread->-r requirements.txt (line 20)) (1.2.1)\n",
      "Requirement already satisfied: decorator in /srv/conda/lib/python3.11/site-packages (from gspread_pandas->-r requirements.txt (line 22)) (5.1.1)\n",
      "Requirement already satisfied: future in /srv/conda/lib/python3.11/site-packages (from gspread_pandas->-r requirements.txt (line 22)) (1.0.0)\n",
      "Requirement already satisfied: cachetools<6.0,>=2.0.0 in /srv/conda/lib/python3.11/site-packages (from google-auth>=1.12.0->gspread->-r requirements.txt (line 20)) (5.5.1)\n",
      "Requirement already satisfied: pyasn1-modules>=0.2.1 in /srv/conda/lib/python3.11/site-packages (from google-auth>=1.12.0->gspread->-r requirements.txt (line 20)) (0.4.1)\n",
      "Requirement already satisfied: rsa<5,>=3.1.4 in /srv/conda/lib/python3.11/site-packages (from google-auth>=1.12.0->gspread->-r requirements.txt (line 20)) (4.9)\n",
      "Requirement already satisfied: requests-oauthlib>=0.7.0 in /srv/conda/lib/python3.11/site-packages (from google-auth-oauthlib>=0.4.1->gspread->-r requirements.txt (line 20)) (2.0.0)\n",
      "Requirement already satisfied: six>=1.5 in /srv/conda/lib/python3.11/site-packages (from python-dateutil>=2.8.2->pandas>=0.23.3->-r requirements.txt (line 11)) (1.17.0)\n",
      "Requirement already satisfied: pyasn1<0.7.0,>=0.4.6 in /srv/conda/lib/python3.11/site-packages (from pyasn1-modules>=0.2.1->google-auth>=1.12.0->gspread->-r requirements.txt (line 20)) (0.6.1)\n",
      "Requirement already satisfied: oauthlib>=3.0.0 in /srv/conda/lib/python3.11/site-packages (from requests-oauthlib>=0.7.0->google-auth-oauthlib>=0.4.1->gspread->-r requirements.txt (line 20)) (3.2.2)\n"
     ]
    }
   ],
   "source": [
    "!pip install -r requirements.txt"
   ]
  },
  {
   "cell_type": "markdown",
   "metadata": {},
   "source": [
    "Define api key here:\n",
    "\n"
   ]
  },
  {
   "cell_type": "code",
   "execution_count": 8,
   "metadata": {},
   "outputs": [],
   "source": [
    "# API key for Gov; substitute your own!\n",
    "apikey = \"qYfiIXBSE9aR5gcHh5N8VxYYfQ2MXs4yOEXb1kv6\""
   ]
  },
  {
   "cell_type": "markdown",
   "metadata": {},
   "source": [
    "## Input Data\n",
    "\n"
   ]
  },
  {
   "cell_type": "markdown",
   "metadata": {},
   "source": [
    "The critical user input is a `pandas.DataFrame` with (at least)\n",
    "these columns:\n",
    "\n",
    "-   **Food:** Label used to identify food\n",
    "-   **Quantity:** Amount of food\n",
    "-   **Units:** Units in which amounts of this food is measured\n",
    "-   **Price:** Price for quantity of food\n",
    "-   **FDC:** Key identifying food in the FoodDataCentral dataset.\n",
    "\n"
   ]
  },
  {
   "cell_type": "markdown",
   "metadata": {},
   "source": [
    "### Using data from Google Sheets\n",
    "\n"
   ]
  },
  {
   "cell_type": "code",
   "execution_count": 9,
   "metadata": {},
   "outputs": [],
   "source": [
    "# ID of sheet and name of worksheet for google sheets.   \n",
    "# Easiest if these are public (or use service accounts; share with students@eep153.iam.gserviceaccount.com)\n",
    "\n",
    "SHEETs = [# Stigler's foods, modern prices\n",
    "          (\"https://docs.google.com/spreadsheet/ccc?key=1ObK5N_5aVXzVHE7ZXWBg0kQvPS3k1enRwsUjhytwh5A\",\"Stigler Table B (2022 Prices)\"),\n",
    "         ]"
   ]
  },
  {
   "cell_type": "markdown",
   "metadata": {},
   "source": [
    "### Compile data on food prices\n",
    "\n"
   ]
  },
  {
   "cell_type": "markdown",
   "metadata": {},
   "source": [
    "For each sheet in the list `SHEETs` grab data and concatenate into\n",
    "   a DataFrame.\n",
    "\n"
   ]
  },
  {
   "cell_type": "code",
   "execution_count": 10,
   "metadata": {},
   "outputs": [
    {
     "ename": "ModuleNotFoundError",
     "evalue": "No module named 'gspread.models'",
     "output_type": "error",
     "traceback": [
      "\u001b[0;31m---------------------------------------------------------------------------\u001b[0m",
      "\u001b[0;31mModuleNotFoundError\u001b[0m                       Traceback (most recent call last)",
      "Cell \u001b[0;32mIn[10], line 2\u001b[0m\n\u001b[1;32m      1\u001b[0m \u001b[38;5;28;01mimport\u001b[39;00m\u001b[38;5;250m \u001b[39m\u001b[38;5;21;01mpandas\u001b[39;00m\u001b[38;5;250m \u001b[39m\u001b[38;5;28;01mas\u001b[39;00m\u001b[38;5;250m \u001b[39m\u001b[38;5;21;01mpd\u001b[39;00m\n\u001b[0;32m----> 2\u001b[0m \u001b[38;5;28;01mfrom\u001b[39;00m\u001b[38;5;250m \u001b[39m\u001b[38;5;21;01meep153_tools\u001b[39;00m\u001b[38;5;21;01m.\u001b[39;00m\u001b[38;5;21;01msheets\u001b[39;00m\u001b[38;5;250m \u001b[39m\u001b[38;5;28;01mimport\u001b[39;00m read_sheets\n\u001b[1;32m      4\u001b[0m df \u001b[38;5;241m=\u001b[39m read_sheets(SHEETs[\u001b[38;5;241m0\u001b[39m][\u001b[38;5;241m0\u001b[39m])[SHEETs[\u001b[38;5;241m0\u001b[39m][\u001b[38;5;241m1\u001b[39m]]\n\u001b[1;32m      5\u001b[0m df\n",
      "File \u001b[0;32m/srv/conda/lib/python3.11/site-packages/eep153_tools/__init__.py:1\u001b[0m\n\u001b[0;32m----> 1\u001b[0m \u001b[38;5;28;01mfrom\u001b[39;00m\u001b[38;5;250m \u001b[39m\u001b[38;5;21;01m.\u001b[39;00m\u001b[38;5;250m \u001b[39m\u001b[38;5;28;01mimport\u001b[39;00m sheets\n\u001b[1;32m      3\u001b[0m __version__ \u001b[38;5;241m=\u001b[39m \u001b[38;5;124m'\u001b[39m\u001b[38;5;124m0.12.4\u001b[39m\u001b[38;5;124m'\u001b[39m,\n",
      "File \u001b[0;32m/srv/conda/lib/python3.11/site-packages/eep153_tools/sheets.py:203\u001b[0m\n\u001b[1;32m    201\u001b[0m \u001b[38;5;28;01mfrom\u001b[39;00m\u001b[38;5;250m \u001b[39m\u001b[38;5;21;01mgoogle\u001b[39;00m\u001b[38;5;21;01m.\u001b[39;00m\u001b[38;5;21;01moauth2\u001b[39;00m\u001b[38;5;21;01m.\u001b[39;00m\u001b[38;5;21;01mservice_account\u001b[39;00m\u001b[38;5;250m \u001b[39m\u001b[38;5;28;01mimport\u001b[39;00m Credentials\n\u001b[1;32m    202\u001b[0m \u001b[38;5;28;01mimport\u001b[39;00m\u001b[38;5;250m \u001b[39m\u001b[38;5;21;01mpandas\u001b[39;00m\u001b[38;5;250m \u001b[39m\u001b[38;5;28;01mas\u001b[39;00m\u001b[38;5;250m \u001b[39m\u001b[38;5;21;01mpd\u001b[39;00m\n\u001b[0;32m--> 203\u001b[0m \u001b[38;5;28;01mfrom\u001b[39;00m\u001b[38;5;250m \u001b[39m\u001b[38;5;21;01mgspread_pandas\u001b[39;00m\u001b[38;5;250m \u001b[39m\u001b[38;5;28;01mimport\u001b[39;00m Client, Spread\n\u001b[1;32m    204\u001b[0m \u001b[38;5;28;01mfrom\u001b[39;00m\u001b[38;5;250m \u001b[39m\u001b[38;5;21;01mgspread_pandas\u001b[39;00m\u001b[38;5;21;01m.\u001b[39;00m\u001b[38;5;21;01mclient\u001b[39;00m\u001b[38;5;250m \u001b[39m\u001b[38;5;28;01mimport\u001b[39;00m SpreadsheetNotFound\n\u001b[1;32m    206\u001b[0m \u001b[38;5;28;01mdef\u001b[39;00m\u001b[38;5;250m \u001b[39m\u001b[38;5;21mwrite_sheet\u001b[39m(df,user_email,user_role\u001b[38;5;241m=\u001b[39m\u001b[38;5;124m'\u001b[39m\u001b[38;5;124mreader\u001b[39m\u001b[38;5;124m'\u001b[39m,json_creds\u001b[38;5;241m=\u001b[39m\u001b[38;5;28;01mNone\u001b[39;00m,key\u001b[38;5;241m=\u001b[39m\u001b[38;5;124m'\u001b[39m\u001b[38;5;124m'\u001b[39m,sheet\u001b[38;5;241m=\u001b[39m\u001b[38;5;124m'\u001b[39m\u001b[38;5;124mMy Sheet\u001b[39m\u001b[38;5;124m'\u001b[39m):\n",
      "File \u001b[0;32m/srv/conda/lib/python3.11/site-packages/gspread_pandas/__init__.py:1\u001b[0m\n\u001b[0;32m----> 1\u001b[0m \u001b[38;5;28;01mfrom\u001b[39;00m\u001b[38;5;250m \u001b[39m\u001b[38;5;21;01mgspread\u001b[39;00m\u001b[38;5;21;01m.\u001b[39;00m\u001b[38;5;21;01mmodels\u001b[39;00m\u001b[38;5;250m \u001b[39m\u001b[38;5;28;01mimport\u001b[39;00m Spreadsheet\n\u001b[1;32m      2\u001b[0m \u001b[38;5;28;01mfrom\u001b[39;00m\u001b[38;5;250m \u001b[39m\u001b[38;5;21;01mgspread\u001b[39;00m\u001b[38;5;21;01m.\u001b[39;00m\u001b[38;5;21;01murls\u001b[39;00m\u001b[38;5;250m \u001b[39m\u001b[38;5;28;01mimport\u001b[39;00m SPREADSHEETS_API_V4_BASE_URL\n\u001b[1;32m      4\u001b[0m \u001b[38;5;28;01mfrom\u001b[39;00m\u001b[38;5;250m \u001b[39m\u001b[38;5;21;01m.\u001b[39;00m\u001b[38;5;21;01m_version\u001b[39;00m\u001b[38;5;250m \u001b[39m\u001b[38;5;28;01mimport\u001b[39;00m __version__, __version_info__\n",
      "\u001b[0;31mModuleNotFoundError\u001b[0m: No module named 'gspread.models'"
     ]
    }
   ],
   "source": [
    "import pandas as pd\n",
    "from eep153_tools.sheets import read_sheets\n",
    "\n",
    "df = read_sheets(SHEETs[0][0])[SHEETs[0][1]]\n",
    "df"
   ]
  },
  {
   "cell_type": "markdown",
   "metadata": {},
   "source": [
    "### Look up nutritional information for foods\n",
    "\n"
   ]
  },
  {
   "cell_type": "markdown",
   "metadata": {},
   "source": [
    "Now we have a list of foods with prices.  Do lookups on USDA database\n",
    "to get nutritional information.\n",
    "\n"
   ]
  },
  {
   "cell_type": "code",
   "execution_count": 6,
   "metadata": {},
   "outputs": [
    {
     "ename": "NameError",
     "evalue": "name 'df' is not defined",
     "output_type": "error",
     "traceback": [
      "\u001b[0;31m---------------------------------------------------------------------------\u001b[0m",
      "\u001b[0;31mNameError\u001b[0m                                 Traceback (most recent call last)",
      "Cell \u001b[0;32mIn[6], line 6\u001b[0m\n\u001b[1;32m      4\u001b[0m D \u001b[38;5;241m=\u001b[39m {}\n\u001b[1;32m      5\u001b[0m count \u001b[38;5;241m=\u001b[39m \u001b[38;5;241m0\u001b[39m\n\u001b[0;32m----> 6\u001b[0m \u001b[38;5;28;01mfor\u001b[39;00m food \u001b[38;5;129;01min\u001b[39;00m  \u001b[43mdf\u001b[49m\u001b[38;5;241m.\u001b[39mFood\u001b[38;5;241m.\u001b[39mtolist():\n\u001b[1;32m      7\u001b[0m     \u001b[38;5;28;01mtry\u001b[39;00m:\n\u001b[1;32m      8\u001b[0m         FDC \u001b[38;5;241m=\u001b[39m df\u001b[38;5;241m.\u001b[39mloc[df\u001b[38;5;241m.\u001b[39mFood\u001b[38;5;241m==\u001b[39mfood,:]\u001b[38;5;241m.\u001b[39mFDC[count]\n",
      "\u001b[0;31mNameError\u001b[0m: name 'df' is not defined"
     ]
    }
   ],
   "source": [
    "import fooddatacentral as fdc\n",
    "import warnings\n",
    "\n",
    "D = {}\n",
    "count = 0\n",
    "for food in  df.Food.tolist():\n",
    "    try:\n",
    "        FDC = df.loc[df.Food==food,:].FDC[count]\n",
    "        count+=1\n",
    "        D[food] = fdc.nutrients(apikey,FDC).Quantity\n",
    "    except AttributeError: \n",
    "        warnings.warn(\"Couldn't find FDC Code %s for food %s.\" % (food,FDC))        \n",
    "\n",
    "FoodNutrients = pd.DataFrame(D,dtype=float)"
   ]
  },
  {
   "cell_type": "markdown",
   "metadata": {},
   "source": [
    "## Units & Prices\n",
    "\n"
   ]
  },
  {
   "cell_type": "markdown",
   "metadata": {},
   "source": [
    "Now, the prices we observe can be for lots of different quantities and\n",
    "units.  The FDC database basically wants everything in either hundreds\n",
    "of grams (hectograms) or hundreds of milliliters (deciliters).  \n",
    "We use the `units` function to convert all foods to either\n",
    "deciliters or hectograms, to match FDC database:\n",
    "\n"
   ]
  },
  {
   "cell_type": "code",
   "execution_count": 1,
   "metadata": {},
   "outputs": [],
   "source": [
    "# Convert food quantities to FDC units\n",
    "df['FDC Quantity'] = df[['Quantity','Units']].T.apply(lambda x : fdc.units(x['Quantity'],x['Units']))\n",
    "\n",
    "# Now may want to filter df by time or place--need to get a unique set of food names.\n",
    "df['FDC Price'] = df['Price']/df['FDC Quantity']\n",
    "\n",
    "df.dropna(how='any') # Drop food with any missing data\n",
    "\n",
    "# To use minimum price observed\n",
    "Prices = df.groupby('Food',sort=False)['FDC Price'].min()"
   ]
  },
  {
   "cell_type": "markdown",
   "metadata": {},
   "source": [
    "## Dietary Requirements\n",
    "\n"
   ]
  },
  {
   "cell_type": "markdown",
   "metadata": {},
   "source": [
    "We&rsquo;ve figured out some foods we can buy, the nutritional content of\n",
    "those foods, and  the price of the foods.  Now we need to say\n",
    "something about nutritional requirements.   Our data for this is based\n",
    "on  US government recommendations available at\n",
    "[https://www.dietaryguidelines.gov/sites/default/files/2021-03/Dietary_Guidelines_for_Americans-2020-2025.pdf](https://www.dietaryguidelines.gov/sites/default/files/2021-03/Dietary_Guidelines_for_Americans-2020-2025.pdf)\n",
    "\n",
    "I&rsquo;ve put some of these data into a google spreadsheet at\n",
    "[https://docs.google.com/spreadsheets/d/1y95IsQ4HKspPW3HHDtH7QMtlDA66IUsCHJLutVL-MMc/](https://docs.google.com/spreadsheets/d/1y95IsQ4HKspPW3HHDtH7QMtlDA66IUsCHJLutVL-MMc/).\n",
    "\n"
   ]
  },
  {
   "cell_type": "code",
   "execution_count": 1,
   "metadata": {},
   "outputs": [],
   "source": [
    "from eep153_tools.sheets import read_sheets\n",
    "\n",
    "DRI_url = \"https://docs.google.com/spreadsheets/d/1y95IsQ4HKspPW3HHDtH7QMtlDA66IUsCHJLutVL-MMc/\"\n",
    "\n",
    "DRIs = read_sheets(DRI_url)\n",
    "\n",
    "# Define *minimums*\n",
    "diet_min = DRIs['diet_minimums'].set_index('Nutrition')\n",
    "\n",
    "# Define *maximums*\n",
    "diet_max = DRIs['diet_maximums'].set_index('Nutrition')"
   ]
  },
  {
   "cell_type": "markdown",
   "metadata": {},
   "source": [
    "## Using `solve_subsistence_problem` to analyze diet\n",
    "\n"
   ]
  },
  {
   "cell_type": "markdown",
   "metadata": {},
   "source": [
    "Let&rsquo;s choose a particular group (type of person with particular\n",
    "dietary requirements) and solve the subsistence problem for them:\n",
    "\n"
   ]
  },
  {
   "cell_type": "code",
   "execution_count": 1,
   "metadata": {},
   "outputs": [],
   "source": [
    "group = 'M 19-30'\n",
    "tol = 1e-6\n",
    "\n",
    "result = solve_subsistence_problem(FoodNutrients,Prices,diet_min[group],diet_max[group],tol=tol)\n",
    "\n",
    "print(\"Cost of diet for %s is $%4.2f per day.\\n\" % (group,result.fun))\n",
    "\n",
    "# Put back into nice series\n",
    "diet = result.diet\n",
    "\n",
    "print(\"\\nDiet (in 100s of grams or milliliters):\")\n",
    "print(diet[diet >= tol])  # Drop items with quantities less than precision of calculation.\n",
    "print()\n",
    "\n",
    "tab = pd.DataFrame({\"Outcome\":np.abs(result.A).dot(diet),\"Recommendation\":np.abs(result.b)})\n",
    "print(\"\\nWith the following nutritional outcomes of interest:\")\n",
    "print(tab)\n",
    "print()\n",
    "\n",
    "print(\"\\nConstraining nutrients are:\")\n",
    "excess = tab.diff(axis=1).iloc[:,1]\n",
    "print(excess.loc[np.abs(excess) < tol*100].index.tolist())"
   ]
  },
  {
   "cell_type": "markdown",
   "metadata": {},
   "source": [
    "## Effects of Price Changes on Subsistence Diet Cost\n",
    "\n"
   ]
  },
  {
   "cell_type": "markdown",
   "metadata": {},
   "source": [
    "As prices change, we should expect the minimum cost diet to also\n",
    "  change.  The code below creates a graph which changes prices away\n",
    "  from the \\`base&rsquo; case one food at a time, and plots changes in total\n",
    "  diet cost.\n",
    "\n"
   ]
  },
  {
   "cell_type": "code",
   "execution_count": 1,
   "metadata": {},
   "outputs": [],
   "source": [
    "import cufflinks as cf\n",
    "cf.go_offline()\n",
    "\n",
    "scale = [.5,.6,.7,.8,.9,1.,1.1,1.2,1.3,1.4,1.5]\n",
    "\n",
    "cost0 = solve_subsistence_problem(FoodNutrients,Prices,diet_min[group],diet_max[group],tol=tol).fun\n",
    "\n",
    "Price_response={}\n",
    "for s in scale:\n",
    "    cost = {}\n",
    "    for i,p in enumerate(Prices):\n",
    "        my_p = Prices.copy()\n",
    "        my_p.iloc[i] = p*s\n",
    "        result = solve_subsistence_problem(FoodNutrients,my_p,diet_min[group],diet_max[group],tol=tol)\n",
    "        cost[Prices.index[i]] = np.log(result.fun/cost0)\n",
    "    Price_response[np.log(s)] = cost\n",
    "\n",
    "Price_response = pd.DataFrame(Price_response).T\n",
    "Price_response.iplot(xTitle='change in log price',yTitle='change in log cost')"
   ]
  },
  {
   "cell_type": "markdown",
   "metadata": {},
   "source": [
    "## Effects of Price Changes on Subsistence Diet Composition\n",
    "\n"
   ]
  },
  {
   "cell_type": "markdown",
   "metadata": {},
   "source": [
    "The code below creates a graph which changes prices just for *one* food,\n",
    "  and traces out the effects of this change on all the foods consumed.\n",
    "\n"
   ]
  },
  {
   "cell_type": "code",
   "execution_count": 1,
   "metadata": {},
   "outputs": [],
   "source": [
    "import cufflinks as cf\n",
    "cf.go_offline()\n",
    "\n",
    "ReferenceGood = 'Spinach'\n",
    "\n",
    "scale = [0.5,0.75,0.9,1.,1.1,1.2,1.3,1.4,1.5,2,4]\n",
    "\n",
    "cost0 = solve_subsistence_problem(FoodNutrients,Prices,diet_min[group],diet_max[group],tol=tol).fun\n",
    "\n",
    "my_p = Prices.copy()\n",
    "\n",
    "diet = {}\n",
    "for s in scale:\n",
    "\n",
    "    my_p[ReferenceGood] = Prices[ReferenceGood]*s\n",
    "    result = solve_subsistence_problem(FoodNutrients,my_p,diet_min[group],diet_max[group],tol=tol)\n",
    "    diet[my_p[ReferenceGood]] = result.diet\n",
    "\n",
    "Diet_response = pd.DataFrame(diet).T\n",
    "Diet_response.index.name = '%s Price' % ReferenceGood\n",
    "\n",
    "Diet_response.reset_index(inplace=True)\n",
    "\n",
    "# Get rid of units for index (cufflinks chokes)\n",
    "Diet_response['%s Price' % ReferenceGood] = Diet_response['%s Price' % ReferenceGood].apply(lambda x: x.magnitude)\n",
    "\n",
    "Diet_response = Diet_response.set_index('%s Price' % ReferenceGood)\n",
    "\n",
    "# Just look at goods consumed in quantities greater than error tolerance\n",
    "Diet_response.loc[:,(Diet_response>tol).sum()>0].iplot(xTitle='%s Price' % ReferenceGood,yTitle='Hectograms')"
   ]
  },
  {
   "cell_type": "markdown",
   "metadata": {},
   "source": [
    "## Effects of Price Changes on Subsistence Diet Nutrition\n",
    "\n"
   ]
  },
  {
   "cell_type": "markdown",
   "metadata": {},
   "source": [
    "The code below creates a graph which uses the food price changes\n",
    "  described above, but maps into nutrients.\n",
    "\n"
   ]
  },
  {
   "cell_type": "code",
   "execution_count": 1,
   "metadata": {},
   "outputs": [],
   "source": [
    "# Matrix product maps quantities of food into quantities of nutrients\n",
    "NutrientResponse = Diet_response@FoodNutrients.T\n",
    "\n",
    "# Drop columns of missing nutrients\n",
    "NutrientResponse = NutrientResponse.loc[:,NutrientResponse.count()>0]\n",
    "NutrientResponse.iplot(xTitle='%s Price' % ReferenceGood,yTitle='Nutrients')"
   ]
  },
  {
   "cell_type": "markdown",
   "metadata": {},
   "source": [
    "## Adding Constraint on Total Weight\n",
    "\n"
   ]
  },
  {
   "cell_type": "markdown",
   "metadata": {},
   "source": [
    "At least at some prices the minimum cost subistence diet involves\n",
    "eating unreasonable amounts of food (e.g., 10 kilograms of cabbage per\n",
    "day).  We can easily add an additional constraint of the form\n",
    "$$\n",
    "     \\sum x_i \\leq \\text{max weight}\n",
    "$$\n",
    "to our linear programming problem since it&rsquo;s just another linear\n",
    "inequality, and this may give us more realistic results.\n",
    "\n"
   ]
  },
  {
   "cell_type": "markdown",
   "metadata": {},
   "source": [
    "### Price Changes and Subsistence Diet Composition with Weight Constraint\n",
    "\n"
   ]
  },
  {
   "cell_type": "markdown",
   "metadata": {},
   "source": [
    "Re-do our analysis of changing prices, but with a constraint that\n",
    "  total weight of diet must be less that 12 hectograms (1.2 kg).\n",
    "\n"
   ]
  },
  {
   "cell_type": "code",
   "execution_count": 1,
   "metadata": {},
   "outputs": [],
   "source": [
    "import cufflinks as cf\n",
    "cf.go_offline()\n",
    "\n",
    "ReferenceGood = 'Spinach'\n",
    "\n",
    "scale = [0.5,0.75,0.9,1.,1.1,1.2,1.3,1.4,1.5,2,4]\n",
    "\n",
    "cost0 = solve_subsistence_problem(FoodNutrients,Prices,\n",
    "                                  diet_min[group],diet_max[group],max_weight=12,tol=tol).fun\n",
    "\n",
    "my_p = Prices.copy()\n",
    "\n",
    "diet = {}\n",
    "for s in scale:\n",
    "\n",
    "    my_p[ReferenceGood] = Prices[ReferenceGood]*s\n",
    "    result = solve_subsistence_problem(FoodNutrients,my_p,\n",
    "                                       diet_min[group],diet_max[group],max_weight=12,tol=tol)\n",
    "    diet[my_p[ReferenceGood]] = result.diet\n",
    "\n",
    "Diet_response = pd.DataFrame(diet).T\n",
    "Diet_response.index.name = '%s Price' % ReferenceGood\n",
    "\n",
    "Diet_response.reset_index(inplace=True)\n",
    "\n",
    "# Get rid of units for index (cufflinks chokes)\n",
    "Diet_response['%s Price' % ReferenceGood] = Diet_response['%s Price' % ReferenceGood].apply(lambda x: x.magnitude)\n",
    "\n",
    "Diet_response = Diet_response.set_index('%s Price' % ReferenceGood)\n",
    "\n",
    "# Just look at goods consumed in quantities greater than error tolerance\n",
    "Diet_response.loc[:,(Diet_response>tol).sum()>0].iplot(xTitle='%s Price' % ReferenceGood,yTitle='Hectograms')"
   ]
  }
 ],
 "metadata": {
  "kernelspec": {
   "display_name": "Python 3 (ipykernel)",
   "language": "python",
   "name": "python3"
  },
  "language_info": {
   "codemirror_mode": {
    "name": "ipython",
    "version": 3
   },
   "file_extension": ".py",
   "mimetype": "text/x-python",
   "name": "python",
   "nbconvert_exporter": "python",
   "pygments_lexer": "ipython3",
   "version": "3.11.11"
  },
  "org": null
 },
 "nbformat": 4,
 "nbformat_minor": 4
}
